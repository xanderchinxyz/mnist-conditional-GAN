{
 "cells": [
  {
   "cell_type": "code",
   "execution_count": 1,
   "metadata": {},
   "outputs": [],
   "source": [
    "import torch\n",
    "import torch.nn as nn\n",
    "import matplotlib.pyplot as plt"
   ]
  },
  {
   "cell_type": "code",
   "execution_count": 2,
   "metadata": {},
   "outputs": [
    {
     "data": {
      "text/plain": [
       "device(type='cuda', index=0)"
      ]
     },
     "execution_count": 2,
     "metadata": {},
     "output_type": "execute_result"
    }
   ],
   "source": [
    "nz = 100\n",
    "\n",
    "n_classes = 10\n",
    "\n",
    "image_size = 28\n",
    "\n",
    "ngpu = 1\n",
    "\n",
    "# Decide which device we want to run on\n",
    "device = torch.device(\"cuda:0\" if torch.cuda.is_available() else \"cpu\")\n",
    "device"
   ]
  },
  {
   "cell_type": "code",
   "execution_count": 3,
   "metadata": {},
   "outputs": [],
   "source": [
    "# custom weights initialization called on ``netG`` and ``netD``\n",
    "def weights_init(m):\n",
    "    classname = m.__class__.__name__\n",
    "    if classname.find('Conv') != -1:\n",
    "        nn.init.normal_(m.weight.data, 0.0, 0.02)\n",
    "    elif classname.find('BatchNorm') != -1:\n",
    "        nn.init.normal_(m.weight.data, 1.0, 0.02)\n",
    "        nn.init.constant_(m.bias.data, 0)"
   ]
  },
  {
   "cell_type": "code",
   "execution_count": 4,
   "metadata": {},
   "outputs": [
    {
     "data": {
      "text/plain": [
       "Generator(\n",
       "  (label_embedding): Embedding(10, 50)\n",
       "  (label_dense): Linear(in_features=50, out_features=49, bias=True)\n",
       "  (latent_to_image_size): Linear(in_features=100, out_features=6272, bias=True)\n",
       "  (latent_reshape): Unflatten(dim=1, unflattened_size=(128, 7, 7))\n",
       "  (leaky_relu): LeakyReLU(negative_slope=0.2)\n",
       "  (upsample1): ConvTranspose2d(129, 128, kernel_size=(4, 4), stride=(2, 2), padding=(1, 1))\n",
       "  (upsample2): ConvTranspose2d(128, 128, kernel_size=(4, 4), stride=(2, 2), padding=(1, 1))\n",
       "  (output_layer): Conv2d(128, 1, kernel_size=(3, 3), stride=(1, 1), padding=(1, 1))\n",
       ")"
      ]
     },
     "execution_count": 4,
     "metadata": {},
     "output_type": "execute_result"
    }
   ],
   "source": [
    "# Generator\n",
    "# input = random vector, output = fake image\n",
    "class Generator(nn.Module):\n",
    "    def __init__(self, ngpu, latent_dim=100, n_classes=10):\n",
    "        super(Generator, self).__init__()\n",
    "        self.ngpu = ngpu\n",
    "        self.latent_dim = latent_dim\n",
    "        self.n_classes = n_classes\n",
    "\n",
    "        # Embedding for categorical input (label)\n",
    "        self.label_embedding = nn.Embedding(n_classes, 50)  # 10 classes, embedding size = 50\n",
    "\n",
    "        n_nodes = 7*7\n",
    "        self.label_dense = nn.Linear(50, n_nodes)  # 50 -> 49\n",
    "\n",
    "        # Input latent vector (size 100)\n",
    "        self.latent_to_image_size = nn.Linear(latent_dim, n_nodes*128)  # 100 -> 7*7*128\n",
    "        self.latent_reshape = nn.Unflatten(dim=1, unflattened_size=(128, 7, 7))\n",
    "        \n",
    "        # ReLU\n",
    "        self.leaky_relu = nn.LeakyReLU(0.2)\n",
    "\n",
    "        # Upsampling Convolutional layers\n",
    "        self.upsample1 = nn.ConvTranspose2d(129, 128, kernel_size=4, stride=2, padding=1)    # 7x7x129 -> 14x14x128\n",
    "        self.upsample2 = nn.ConvTranspose2d(128, 128, kernel_size=4, stride=2, padding=1)    # 14x14x128 -> 28x28x128\n",
    "        \n",
    "        # Output layer\n",
    "        self.output_layer = nn.Conv2d(128, 1, kernel_size=3, stride=1, padding=1)\n",
    "\n",
    "\n",
    "    def forward(self, latent_input, labels):\n",
    "        label_embed = self.label_embedding(labels)\n",
    "        label_embed = self.label_dense(label_embed)\n",
    "        label_embed = label_embed.view(-1, 1, 7, 7) # Reshape\n",
    "\n",
    "        latent = self.latent_to_image_size(latent_input)\n",
    "        latent = self.leaky_relu(latent)\n",
    "        latent = self.latent_reshape(latent)\n",
    "\n",
    "        x = torch.cat((latent, label_embed), dim=1)     # Concatenate latent and label embed\n",
    "\n",
    "        # Upsample to 16x16\n",
    "        x = self.upsample1(x)\n",
    "        x = self.leaky_relu(x)\n",
    "\n",
    "        # Upsample to 32x32\n",
    "        x = self.upsample2(x)\n",
    "        x = self.leaky_relu(x)\n",
    "\n",
    "        # Output layer\n",
    "        x = torch.tanh(self.output_layer(x))\n",
    "\n",
    "        return x\n",
    "    \n",
    "netG = Generator(ngpu=ngpu, latent_dim=nz, n_classes=n_classes).to(device=device)\n",
    "netG.apply(weights_init)"
   ]
  },
  {
   "cell_type": "code",
   "execution_count": 20,
   "metadata": {},
   "outputs": [
    {
     "data": {
      "image/png": "[encoded data removed]",
      "text/plain": [
       "<Figure size 640x480 with 1 Axes>"
      ]
     },
     "metadata": {},
     "output_type": "display_data"
    }
   ],
   "source": [
    "# Load model\n",
    "generator = Generator(ngpu).to(device)\n",
    "generator.load_state_dict(torch.load(\"./mnist-conditional-gan-model.pt\", weights_only=True))\n",
    "\n",
    "# Set the generator to evaluation mode\n",
    "generator.eval()\n",
    "\n",
    "# Generate a sample noise vector\n",
    "sample_noise = torch.randn(1, nz, device=device)\n",
    "sample_label = torch.tensor(6, device=device)\n",
    "\n",
    "# Generate an image from the noise vector\n",
    "X = generator(sample_noise, sample_label).detach().cpu()\n",
    "\n",
    "# Plot the generated image\n",
    "plt.imshow(X.view(image_size, image_size), cmap='gray')\n",
    "plt.show()"
   ]
  }
 ],
 "metadata": {
  "kernelspec": {
   "display_name": ".venv",
   "language": "python",
   "name": "python3"
  },
  "language_info": {
   "codemirror_mode": {
    "name": "ipython",
    "version": 3
   },
   "file_extension": ".py",
   "mimetype": "text/x-python",
   "name": "python",
   "nbconvert_exporter": "python",
   "pygments_lexer": "ipython3",
   "version": "3.12.1"
  }
 },
 "nbformat": 4,
 "nbformat_minor": 2
}
