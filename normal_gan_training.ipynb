{
 "cells": [
  {
   "cell_type": "code",
   "execution_count": 1,
   "metadata": {},
   "outputs": [],
   "source": [
    "import random\n",
    "import torch\n",
    "from torchvision import datasets, transforms\n",
    "from torch.utils.data import DataLoader\n",
    "import torch.nn as nn\n",
    "import torch.optim as optim\n",
    "import torchvision.utils as vutils\n",
    "import torch.nn.functional as F\n",
    "\n",
    "import matplotlib.pyplot as plt\n",
    "import matplotlib.animation as animation\n",
    "import numpy as np"
   ]
  },
  {
   "cell_type": "code",
   "execution_count": 2,
   "metadata": {},
   "outputs": [
    {
     "name": "stdout",
     "output_type": "stream",
     "text": [
      "Random Seed:  999\n"
     ]
    },
    {
     "data": {
      "text/plain": [
       "<torch._C.Generator at 0x13f7d90dcb0>"
      ]
     },
     "execution_count": 2,
     "metadata": {},
     "output_type": "execute_result"
    }
   ],
   "source": [
    "# Set random seed for reproducibility\n",
    "manualSeed = 999\n",
    "#manualSeed = random.randint(1, 10000) # use if you want new results\n",
    "print(\"Random Seed: \", manualSeed)\n",
    "random.seed(manualSeed)\n",
    "torch.manual_seed(manualSeed)"
   ]
  },
  {
   "cell_type": "code",
   "execution_count": 3,
   "metadata": {},
   "outputs": [],
   "source": [
    "# Batch size during training\n",
    "batch_size = 128\n",
    "\n",
    "# Spatial size of training images. All images will be resized to this size using a transformer.\n",
    "image_size = 28\n",
    "\n",
    "# Number of channels in the training images. For color images this is 3\n",
    "nc = 1\n",
    "\n",
    "# Size of z latent vector (i.e. size of generator input)\n",
    "nz = 100\n",
    "\n",
    "# Size of feature maps in generator\n",
    "ngf = 28\n",
    "\n",
    "# Size of feature maps in discriminator\n",
    "ndf = 28\n",
    "\n",
    "# Number of training epochs\n",
    "num_epochs = 5\n",
    "\n",
    "# Learning rate for optimizers\n",
    "lr = 0.0002\n",
    "\n",
    "# Beta1 hyperparameter for Adam optimizers\n",
    "beta1 = 0.5\n",
    "\n",
    "# Number of GPUs available. Use 0 for CPU mode.\n",
    "ngpu = 1\n",
    "\n",
    "# Decide which device we want to run on\n",
    "device = torch.device(\"cuda:0\" if (torch.cuda.is_available() and ngpu > 0) else \"cpu\")"
   ]
  },
  {
   "cell_type": "code",
   "execution_count": 4,
   "metadata": {},
   "outputs": [
    {
     "data": {
      "image/png": "[encoded data removed]",
      "text/plain": [
       "<Figure size 640x480 with 12 Axes>"
      ]
     },
     "metadata": {},
     "output_type": "display_data"
    }
   ],
   "source": [
    "# Transformations\n",
    "transform = transforms.Compose([\n",
    "    transforms.ToTensor(),                  # Convert PIL Image to Tensor and rescales to [-1, 1]\n",
    "    transforms.Normalize((0.5,), (0.5,))    # Normalize with mean=0.5, std=0.5\n",
    "])\n",
    "\n",
    "# Datasets\n",
    "train_data = datasets.MNIST(root='./data', train=True, transform=transform, download=True)\n",
    "\n",
    "# DataLoader\n",
    "dataloader = DataLoader(train_data, batch_size=batch_size, shuffle=True)\n",
    "\n",
    "# Visualize\n",
    "examples = iter(dataloader)\n",
    "images, labels = next(examples)\n",
    "\n",
    "for i in range(12):\n",
    "    plt.subplot(3, 4, i+1)\n",
    "    plt.imshow(images[i][0], cmap='gray')\n",
    "    plt.title(f\"Label: {labels[i].item()}\")\n",
    "    plt.axis('off')\n",
    "plt.show()"
   ]
  },
  {
   "cell_type": "code",
   "execution_count": 5,
   "metadata": {},
   "outputs": [],
   "source": [
    "# custom weights initialization called on ``netG`` and ``netD``\n",
    "def weights_init(m):\n",
    "    classname = m.__class__.__name__\n",
    "    if classname.find('Conv') != -1:\n",
    "        nn.init.normal_(m.weight.data, 0.0, 0.02)\n",
    "    elif classname.find('BatchNorm') != -1:\n",
    "        nn.init.normal_(m.weight.data, 1.0, 0.02)\n",
    "        nn.init.constant_(m.bias.data, 0)"
   ]
  },
  {
   "cell_type": "code",
   "execution_count": 6,
   "metadata": {},
   "outputs": [
    {
     "data": {
      "text/plain": [
       "Generator(\n",
       "  (main): Sequential(\n",
       "    (0): Linear(in_features=100, out_features=256, bias=True)\n",
       "    (1): LeakyReLU(negative_slope=0.2)\n",
       "    (2): BatchNorm1d(256, eps=1e-05, momentum=0.8, affine=True, track_running_stats=True)\n",
       "    (3): Linear(in_features=256, out_features=512, bias=True)\n",
       "    (4): LeakyReLU(negative_slope=0.2)\n",
       "    (5): BatchNorm1d(512, eps=1e-05, momentum=0.8, affine=True, track_running_stats=True)\n",
       "    (6): Linear(in_features=512, out_features=1024, bias=True)\n",
       "    (7): LeakyReLU(negative_slope=0.2)\n",
       "    (8): BatchNorm1d(1024, eps=1e-05, momentum=0.8, affine=True, track_running_stats=True)\n",
       "    (9): Linear(in_features=1024, out_features=784, bias=True)\n",
       "    (10): Tanh()\n",
       "  )\n",
       ")"
      ]
     },
     "execution_count": 6,
     "metadata": {},
     "output_type": "execute_result"
    }
   ],
   "source": [
    "# Generator\n",
    "# input = random vector, output = fake image\n",
    "class Generator(nn.Module):\n",
    "    def __init__(self, ngpu):\n",
    "        super(Generator, self).__init__()\n",
    "        self.ngpu = ngpu\n",
    "        self.main = nn.Sequential(\n",
    "            nn.Linear(in_features=nz, out_features=256),\n",
    "            nn.LeakyReLU(0.2),\n",
    "            nn.BatchNorm1d(256, momentum=0.8),\n",
    "            nn.Linear(256, 512),\n",
    "            nn.LeakyReLU(0.2),\n",
    "            nn.BatchNorm1d(512, momentum=0.8),\n",
    "            \n",
    "            nn.Linear(512, 1024),\n",
    "            nn.LeakyReLU(0.2),\n",
    "            nn.BatchNorm1d(1024, momentum=0.8),\n",
    "            \n",
    "            nn.Linear(1024, image_size*image_size),\n",
    "            nn.Tanh()\n",
    "        )\n",
    "\n",
    "    def forward(self, input):\n",
    "        return self.main(input)\n",
    "    \n",
    "# Create the generator\n",
    "netG = Generator(ngpu).to(device)\n",
    "\n",
    "# Apply the ``weights_init`` function to randomly initialize all weights to mean=0, stdev=0.02.\n",
    "netG.apply(weights_init)"
   ]
  },
  {
   "cell_type": "code",
   "execution_count": 7,
   "metadata": {},
   "outputs": [
    {
     "data": {
      "text/plain": [
       "Discriminator(\n",
       "  (main): Sequential(\n",
       "    (0): Flatten(start_dim=1, end_dim=-1)\n",
       "    (1): Linear(in_features=784, out_features=512, bias=True)\n",
       "    (2): LeakyReLU(negative_slope=0.2)\n",
       "    (3): Linear(in_features=512, out_features=256, bias=True)\n",
       "    (4): LeakyReLU(negative_slope=0.2)\n",
       "    (5): Linear(in_features=256, out_features=1, bias=True)\n",
       "    (6): Sigmoid()\n",
       "  )\n",
       ")"
      ]
     },
     "execution_count": 7,
     "metadata": {},
     "output_type": "execute_result"
    }
   ],
   "source": [
    "# Discriminator\n",
    "# input = image, output = likelihood of image being real\n",
    "class Discriminator(nn.Module):\n",
    "    def __init__(self, ngpu):\n",
    "        super(Discriminator, self).__init__()\n",
    "        self.ngpu = ngpu\n",
    "        self.main = nn.Sequential(\n",
    "            nn.Flatten(),\n",
    "            nn.Linear(image_size*image_size, 512),\n",
    "            nn.LeakyReLU(0.2),\n",
    "            nn.Linear(512, 256),\n",
    "            nn.LeakyReLU(0.2),\n",
    "            nn.Linear(256, 1),\n",
    "            nn.Sigmoid()\n",
    "        )\n",
    "\n",
    "    def forward(self, input):\n",
    "        return self.main(input)\n",
    "    \n",
    "# Create the Discriminator\n",
    "netD = Discriminator(ngpu).to(device)\n",
    "\n",
    "# Apply the ``weights_init`` function to randomly initialize all weights\n",
    "# like this: ``to mean=0, stdev=0.2``.\n",
    "netD.apply(weights_init)"
   ]
  },
  {
   "cell_type": "code",
   "execution_count": 8,
   "metadata": {},
   "outputs": [],
   "source": [
    "# Initialize the ``BCELoss`` function\n",
    "criterion = nn.BCELoss()\n",
    "\n",
    "# Create batch of latent vectors that we will use to visualize\n",
    "# the progression of the generator\n",
    "fixed_noise = torch.randn(64, nz, device=device)\n",
    "\n",
    "# Establish convention for real and fake labels during training\n",
    "real_label = 1.\n",
    "fake_label = 0.\n",
    "\n",
    "# Setup Adam optimizers for both G and D\n",
    "optimizerD = optim.Adam(netD.parameters(), lr=lr, betas=(beta1, 0.999))\n",
    "optimizerG = optim.Adam(netG.parameters(), lr=lr, betas=(beta1, 0.999))"
   ]
  },
  {
   "cell_type": "code",
   "execution_count": 9,
   "metadata": {},
   "outputs": [
    {
     "name": "stdout",
     "output_type": "stream",
     "text": [
      "[0/5][0/469]\tLoss_D: 1.3525\tLoss_G: 0.6644\tD(x): 0.5332\tD(G(z)): 0.5148 / 0.5147\n",
      "[0/5][50/469]\tLoss_D: 0.3399\tLoss_G: 1.4082\tD(x): 0.9828\tD(G(z)): 0.2721 / 0.2533\n",
      "[0/5][100/469]\tLoss_D: 0.5415\tLoss_G: 1.1445\tD(x): 0.7447\tD(G(z)): 0.1883 / 0.4124\n",
      "[0/5][150/469]\tLoss_D: 1.4604\tLoss_G: 0.3362\tD(x): 0.9983\tD(G(z)): 0.7132 / 0.7478\n",
      "[0/5][200/469]\tLoss_D: 0.8303\tLoss_G: 0.8843\tD(x): 0.7547\tD(G(z)): 0.4154 / 0.4203\n",
      "[0/5][250/469]\tLoss_D: 1.0144\tLoss_G: 1.2701\tD(x): 0.6725\tD(G(z)): 0.4544 / 0.2832\n",
      "[0/5][300/469]\tLoss_D: 0.9670\tLoss_G: 1.1534\tD(x): 0.7727\tD(G(z)): 0.5044 / 0.3174\n",
      "[0/5][350/469]\tLoss_D: 1.0914\tLoss_G: 0.7427\tD(x): 0.5979\tD(G(z)): 0.4337 / 0.4771\n",
      "[0/5][400/469]\tLoss_D: 1.1565\tLoss_G: 1.1110\tD(x): 0.7433\tD(G(z)): 0.5730 / 0.3313\n",
      "[0/5][450/469]\tLoss_D: 1.2439\tLoss_G: 0.6634\tD(x): 0.5034\tD(G(z)): 0.4189 / 0.5165\n",
      "[1/5][0/469]\tLoss_D: 1.2483\tLoss_G: 1.3650\tD(x): 0.7304\tD(G(z)): 0.6027 / 0.2582\n",
      "[1/5][50/469]\tLoss_D: 1.2424\tLoss_G: 0.8023\tD(x): 0.5841\tD(G(z)): 0.4988 / 0.4500\n",
      "[1/5][100/469]\tLoss_D: 1.2511\tLoss_G: 0.8116\tD(x): 0.6095\tD(G(z)): 0.5256 / 0.4463\n",
      "[1/5][150/469]\tLoss_D: 1.2892\tLoss_G: 0.8748\tD(x): 0.6003\tD(G(z)): 0.5369 / 0.4181\n",
      "[1/5][200/469]\tLoss_D: 1.2611\tLoss_G: 0.8381\tD(x): 0.5465\tD(G(z)): 0.4734 / 0.4351\n",
      "[1/5][250/469]\tLoss_D: 1.2849\tLoss_G: 0.8831\tD(x): 0.5699\tD(G(z)): 0.5080 / 0.4158\n",
      "[1/5][300/469]\tLoss_D: 1.3050\tLoss_G: 0.7906\tD(x): 0.5616\tD(G(z)): 0.5102 / 0.4556\n",
      "[1/5][350/469]\tLoss_D: 1.3257\tLoss_G: 0.8793\tD(x): 0.5647\tD(G(z)): 0.5235 / 0.4175\n",
      "[1/5][400/469]\tLoss_D: 1.3499\tLoss_G: 0.6304\tD(x): 0.4173\tD(G(z)): 0.3635 / 0.5338\n",
      "[1/5][450/469]\tLoss_D: 1.3776\tLoss_G: 0.4707\tD(x): 0.4183\tD(G(z)): 0.3848 / 0.6270\n",
      "[2/5][0/469]\tLoss_D: 1.3071\tLoss_G: 1.0234\tD(x): 0.6409\tD(G(z)): 0.5720 / 0.3630\n",
      "[2/5][50/469]\tLoss_D: 1.3491\tLoss_G: 0.5745\tD(x): 0.4535\tD(G(z)): 0.4165 / 0.5659\n",
      "[2/5][100/469]\tLoss_D: 1.2777\tLoss_G: 0.6208\tD(x): 0.4486\tD(G(z)): 0.3679 / 0.5394\n",
      "[2/5][150/469]\tLoss_D: 1.3858\tLoss_G: 0.9924\tD(x): 0.6288\tD(G(z)): 0.5936 / 0.3748\n",
      "[2/5][200/469]\tLoss_D: 1.2739\tLoss_G: 0.7030\tD(x): 0.5086\tD(G(z)): 0.4426 / 0.4975\n",
      "[2/5][250/469]\tLoss_D: 1.3349\tLoss_G: 0.7899\tD(x): 0.5304\tD(G(z)): 0.4939 / 0.4576\n",
      "[2/5][300/469]\tLoss_D: 1.3500\tLoss_G: 0.8770\tD(x): 0.6362\tD(G(z)): 0.5853 / 0.4195\n",
      "[2/5][350/469]\tLoss_D: 1.3106\tLoss_G: 0.8067\tD(x): 0.5358\tD(G(z)): 0.4847 / 0.4517\n",
      "[2/5][400/469]\tLoss_D: 1.3257\tLoss_G: 0.8996\tD(x): 0.5865\tD(G(z)): 0.5405 / 0.4092\n",
      "[2/5][450/469]\tLoss_D: 1.2662\tLoss_G: 0.8279\tD(x): 0.5555\tD(G(z)): 0.4835 / 0.4406\n",
      "[3/5][0/469]\tLoss_D: 1.2646\tLoss_G: 1.0265\tD(x): 0.6063\tD(G(z)): 0.5255 / 0.3625\n",
      "[3/5][50/469]\tLoss_D: 1.3439\tLoss_G: 0.5016\tD(x): 0.4209\tD(G(z)): 0.3628 / 0.6089\n",
      "[3/5][100/469]\tLoss_D: 1.3237\tLoss_G: 1.0223\tD(x): 0.5982\tD(G(z)): 0.5459 / 0.3644\n",
      "[3/5][150/469]\tLoss_D: 1.5155\tLoss_G: 1.0756\tD(x): 0.7442\tD(G(z)): 0.6969 / 0.3468\n",
      "[3/5][200/469]\tLoss_D: 1.2935\tLoss_G: 0.7428\tD(x): 0.5242\tD(G(z)): 0.4646 / 0.4794\n",
      "[3/5][250/469]\tLoss_D: 1.2833\tLoss_G: 0.7479\tD(x): 0.5227\tD(G(z)): 0.4580 / 0.4769\n",
      "[3/5][300/469]\tLoss_D: 1.3226\tLoss_G: 1.1831\tD(x): 0.6222\tD(G(z)): 0.5641 / 0.3096\n",
      "[3/5][350/469]\tLoss_D: 1.3116\tLoss_G: 1.0656\tD(x): 0.6287\tD(G(z)): 0.5620 / 0.3499\n",
      "[3/5][400/469]\tLoss_D: 1.7073\tLoss_G: 1.2693\tD(x): 0.8138\tD(G(z)): 0.7697 / 0.2862\n",
      "[3/5][450/469]\tLoss_D: 1.3095\tLoss_G: 0.7219\tD(x): 0.4983\tD(G(z)): 0.4436 / 0.4893\n",
      "[4/5][0/469]\tLoss_D: 1.3168\tLoss_G: 0.7416\tD(x): 0.4457\tD(G(z)): 0.3832 / 0.4806\n",
      "[4/5][50/469]\tLoss_D: 1.2578\tLoss_G: 0.8180\tD(x): 0.5633\tD(G(z)): 0.4863 / 0.4460\n",
      "[4/5][100/469]\tLoss_D: 1.2449\tLoss_G: 0.6039\tD(x): 0.4841\tD(G(z)): 0.3863 / 0.5506\n",
      "[4/5][150/469]\tLoss_D: 1.3191\tLoss_G: 1.1479\tD(x): 0.6762\tD(G(z)): 0.5911 / 0.3237\n",
      "[4/5][200/469]\tLoss_D: 1.2570\tLoss_G: 0.8183\tD(x): 0.5558\tD(G(z)): 0.4759 / 0.4463\n",
      "[4/5][250/469]\tLoss_D: 1.3437\tLoss_G: 0.6820\tD(x): 0.4745\tD(G(z)): 0.4334 / 0.5120\n",
      "[4/5][300/469]\tLoss_D: 1.3204\tLoss_G: 0.6290\tD(x): 0.4609\tD(G(z)): 0.4062 / 0.5369\n",
      "[4/5][350/469]\tLoss_D: 1.2256\tLoss_G: 0.7855\tD(x): 0.5266\tD(G(z)): 0.4286 / 0.4610\n",
      "[4/5][400/469]\tLoss_D: 1.4855\tLoss_G: 0.9211\tD(x): 0.7484\tD(G(z)): 0.6904 / 0.4040\n",
      "[4/5][450/469]\tLoss_D: 1.3811\tLoss_G: 1.0903\tD(x): 0.6960\tD(G(z)): 0.6311 / 0.3414\n"
     ]
    }
   ],
   "source": [
    "# Training Loop\n",
    "\n",
    "# Lists to keep track of progress\n",
    "img_list = []\n",
    "G_losses = []\n",
    "D_losses = []\n",
    "iters = 0\n",
    "\n",
    "for epoch in range(num_epochs):\n",
    "    for i, data in enumerate(dataloader, 0):\n",
    "        # ---------------------\n",
    "        #  Train Discriminator\n",
    "        # ---------------------\n",
    "\n",
    "        # Train on real batch of images\n",
    "        netD.zero_grad()\n",
    "        real_cpu = data[0].to(device)                                                   # Image\n",
    "        b_size = real_cpu.size(0)\n",
    "        label = torch.full((b_size,), real_label, dtype=torch.float, device=device)     # Generates all 1's\n",
    "        # Forward pass real batch through Discriminator\n",
    "        output = netD(real_cpu).view(-1)\n",
    "        # Calculate loss on all-real batch\n",
    "        errD_real = criterion(output, label)\n",
    "        # Calculate gradients for D in backward pass\n",
    "        errD_real.backward()\n",
    "        D_x = output.mean().item()\n",
    "\n",
    "        # Train on fake batch of images from generator\n",
    "        noise = torch.randn(b_size, nz, device=device)          # Generate batch of latent vectors\n",
    "        fake = netG(noise)                                      # Generate fake images\n",
    "        label.fill_(fake_label)\n",
    "        # Classify all fake batch with Discriminator\n",
    "        output = netD(fake.detach()).view(-1)\n",
    "        # Calculate D's loss on the all-fake batch\n",
    "        errD_fake = criterion(output, label)\n",
    "        # Calculate the gradients for this batch, accumulated (summed) with previous gradients\n",
    "        errD_fake.backward()\n",
    "        D_G_z1 = output.mean().item()\n",
    "        # Compute error of D as sum over the fake and the real batches\n",
    "        errD = errD_real + errD_fake\n",
    "        # Update D\n",
    "        optimizerD.step()\n",
    "\n",
    "        # ---------------------\n",
    "        #  Train Generator\n",
    "        # ---------------------\n",
    "        netG.zero_grad()\n",
    "        # The generator wants the discriminator to label the generated samples\n",
    "        # as valid (ones)\n",
    "        # This is where the genrator is trying to trick discriminator into believing\n",
    "        # the generated image is true (hence value of 1 for y)\n",
    "        label.fill_(real_label)\n",
    "        # Combine G and D and send the fake images generated by the G to the D\n",
    "        output = netD(fake).view(-1)\n",
    "        # Calculate G's loss based on this output\n",
    "        errG = criterion(output, label)\n",
    "        # Calculate gradients for G\n",
    "        errG.backward()\n",
    "        D_G_z2 = output.mean().item()\n",
    "        # Update G\n",
    "        optimizerG.step()\n",
    "\n",
    "        # Output training stats\n",
    "        if i % 50 == 0:\n",
    "            print('[%d/%d][%d/%d]\\tLoss_D: %.4f\\tLoss_G: %.4f\\tD(x): %.4f\\tD(G(z)): %.4f / %.4f'\n",
    "                % (epoch, num_epochs, i, len(dataloader),\n",
    "                    errD.item(), errG.item(), D_x, D_G_z1, D_G_z2))\n",
    "\n",
    "        # Save Losses for plotting later\n",
    "        G_losses.append(errG.item())\n",
    "        D_losses.append(errD.item())\n",
    "\n",
    "        # Check how the generator is doing by saving G's output on fixed_noise\n",
    "        if (iters % 500 == 0) or ((epoch == num_epochs-1) and (i == len(dataloader)-1)):\n",
    "            with torch.no_grad():\n",
    "                fake = netG(fixed_noise).detach().cpu()\n",
    "            img_list.append(vutils.make_grid(fake, padding=2, normalize=True))\n",
    "\n",
    "        iters += 1"
   ]
  },
  {
   "cell_type": "code",
   "execution_count": 10,
   "metadata": {},
   "outputs": [],
   "source": [
    "torch.save(netG.state_dict(), \"./mnist-normal-gan-model.pt\")"
   ]
  },
  {
   "cell_type": "code",
   "execution_count": 11,
   "metadata": {},
   "outputs": [
    {
     "data": {
      "image/png": "[encoded data removed]",
      "text/plain": [
       "<Figure size 640x480 with 1 Axes>"
      ]
     },
     "metadata": {},
     "output_type": "display_data"
    }
   ],
   "source": [
    "# Set the generator to evaluation mode\n",
    "netG.eval()\n",
    "\n",
    "# Generate a sample noise vector\n",
    "sample_noise = torch.randn(1, nz, device=device)\n",
    "\n",
    "# Generate an image from the noise vector\n",
    "X = netG(sample_noise).detach().cpu()\n",
    "\n",
    "# Plot the generated image\n",
    "plt.imshow(X.view(image_size, image_size), cmap='gray')\n",
    "plt.show()"
   ]
  }
 ],
 "metadata": {
  "kernelspec": {
   "display_name": ".venv",
   "language": "python",
   "name": "python3"
  },
  "language_info": {
   "codemirror_mode": {
    "name": "ipython",
    "version": 3
   },
   "file_extension": ".py",
   "mimetype": "text/x-python",
   "name": "python",
   "nbconvert_exporter": "python",
   "pygments_lexer": "ipython3",
   "version": "3.12.1"
  }
 },
 "nbformat": 4,
 "nbformat_minor": 2
}
