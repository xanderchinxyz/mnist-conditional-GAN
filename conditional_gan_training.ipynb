{
 "cells": [
  {
   "cell_type": "code",
   "execution_count": 1,
   "metadata": {},
   "outputs": [],
   "source": [
    "import random\n",
    "import torch\n",
    "from torchvision import datasets, transforms\n",
    "from torch.utils.data import DataLoader\n",
    "import torch.nn as nn\n",
    "import torch.nn.functional as F\n",
    "import torch.optim as optim\n",
    "import torchvision.utils as vutils\n",
    "\n",
    "import matplotlib.pyplot as plt\n",
    "import matplotlib.animation as animation\n",
    "import numpy as np\n",
    "from numpy.random import randint"
   ]
  },
  {
   "cell_type": "code",
   "execution_count": 2,
   "metadata": {},
   "outputs": [
    {
     "name": "stdout",
     "output_type": "stream",
     "text": [
      "Random Seed:  456\n"
     ]
    },
    {
     "data": {
      "text/plain": [
       "<torch._C.Generator at 0x216c54adcb0>"
      ]
     },
     "execution_count": 2,
     "metadata": {},
     "output_type": "execute_result"
    }
   ],
   "source": [
    "# Set random seed for reproducibility\n",
    "manualSeed = 456\n",
    "#manualSeed = random.randint(1, 10000) # use if you want new results\n",
    "print(\"Random Seed: \", manualSeed)\n",
    "random.seed(manualSeed)\n",
    "torch.manual_seed(manualSeed)"
   ]
  },
  {
   "cell_type": "code",
   "execution_count": 3,
   "metadata": {},
   "outputs": [
    {
     "data": {
      "text/plain": [
       "device(type='cuda', index=0)"
      ]
     },
     "execution_count": 3,
     "metadata": {},
     "output_type": "execute_result"
    }
   ],
   "source": [
    "# Batch size during training\n",
    "batch_size = 128\n",
    "\n",
    "# Spatial size of training images. All images will be resized to this size using a transformer.\n",
    "image_size = 28\n",
    "\n",
    "# Number of channels in the training images. For color images this is 3\n",
    "nc = 1\n",
    "\n",
    "# Size of z latent vector (i.e. size of generator input)\n",
    "nz = 100\n",
    "\n",
    "# Number of label classes\n",
    "n_classes = 10\n",
    "\n",
    "# Size of feature maps in generator\n",
    "ngf = 28\n",
    "\n",
    "# Size of feature maps in discriminator\n",
    "ndf = 28\n",
    "\n",
    "# Number of training epochs\n",
    "num_epochs = 10\n",
    "\n",
    "# Learning rate for optimizers\n",
    "lr = 0.0002\n",
    "\n",
    "# Beta1 hyperparameter for Adam optimizers\n",
    "beta1 = 0.5\n",
    "\n",
    "# Number of GPUs available. Use 0 for CPU mode.\n",
    "ngpu = 1\n",
    "\n",
    "# Decide which device we want to run on\n",
    "device = torch.device(\"cuda:0\" if (torch.cuda.is_available() and ngpu > 0) else \"cpu\")\n",
    "# device = \"cpu\"\n",
    "device"
   ]
  },
  {
   "cell_type": "code",
   "execution_count": 4,
   "metadata": {},
   "outputs": [
    {
     "data": {
      "image/png": "[encoded data removed]",
      "text/plain": [
       "<Figure size 640x480 with 12 Axes>"
      ]
     },
     "metadata": {},
     "output_type": "display_data"
    }
   ],
   "source": [
    "# Transformations\n",
    "transform = transforms.Compose([\n",
    "    transforms.ToTensor(),                  # Convert PIL Image to Tensor and rescales to [-1, 1]\n",
    "    transforms.Normalize((0.5,), (0.5,))    # Normalize with mean=0.5, std=0.5\n",
    "])\n",
    "\n",
    "# Datasets\n",
    "train_data = datasets.MNIST(root='./data', train=True, transform=transform, download=True)\n",
    "\n",
    "# DataLoader\n",
    "dataloader = DataLoader(train_data, batch_size=batch_size, shuffle=True)\n",
    "\n",
    "# Visualize\n",
    "examples = iter(dataloader)\n",
    "images, labels = next(examples)\n",
    "\n",
    "for i in range(12):\n",
    "    plt.subplot(3, 4, i+1)\n",
    "    plt.imshow(images[i][0], cmap='gray')\n",
    "    plt.title(f\"Label: {labels[i].item()}\")\n",
    "    plt.axis('off')\n",
    "plt.show()"
   ]
  },
  {
   "cell_type": "code",
   "execution_count": 5,
   "metadata": {},
   "outputs": [],
   "source": [
    "# custom weights initialization called on ``netG`` and ``netD``\n",
    "def weights_init(m):\n",
    "    classname = m.__class__.__name__\n",
    "    if classname.find('Conv') != -1:\n",
    "        nn.init.normal_(m.weight.data, 0.0, 0.02)\n",
    "    elif classname.find('BatchNorm') != -1:\n",
    "        nn.init.normal_(m.weight.data, 1.0, 0.02)\n",
    "        nn.init.constant_(m.bias.data, 0)"
   ]
  },
  {
   "cell_type": "code",
   "execution_count": 6,
   "metadata": {},
   "outputs": [
    {
     "data": {
      "text/plain": [
       "Generator(\n",
       "  (label_embedding): Embedding(10, 50)\n",
       "  (label_dense): Linear(in_features=50, out_features=49, bias=True)\n",
       "  (latent_to_image_size): Linear(in_features=100, out_features=6272, bias=True)\n",
       "  (latent_reshape): Unflatten(dim=1, unflattened_size=(128, 7, 7))\n",
       "  (leaky_relu): LeakyReLU(negative_slope=0.2)\n",
       "  (upsample1): ConvTranspose2d(129, 128, kernel_size=(4, 4), stride=(2, 2), padding=(1, 1))\n",
       "  (upsample2): ConvTranspose2d(128, 128, kernel_size=(4, 4), stride=(2, 2), padding=(1, 1))\n",
       "  (output_layer): Conv2d(128, 1, kernel_size=(3, 3), stride=(1, 1), padding=(1, 1))\n",
       ")"
      ]
     },
     "execution_count": 6,
     "metadata": {},
     "output_type": "execute_result"
    }
   ],
   "source": [
    "# Generator\n",
    "# input = random vector, output = fake image\n",
    "class Generator(nn.Module):\n",
    "    def __init__(self, ngpu, latent_dim=100, n_classes=10):\n",
    "        super(Generator, self).__init__()\n",
    "        self.ngpu = ngpu\n",
    "        self.latent_dim = latent_dim\n",
    "        self.n_classes = n_classes\n",
    "\n",
    "        # Embedding for categorical input (label)\n",
    "        self.label_embedding = nn.Embedding(n_classes, 50)  # 10 classes, embedding size = 50\n",
    "\n",
    "        n_nodes = 7*7\n",
    "        self.label_dense = nn.Linear(50, n_nodes)  # 50 -> 49\n",
    "\n",
    "        # Input latent vector (size 100)\n",
    "        self.latent_to_image_size = nn.Linear(latent_dim, n_nodes*128)  # 100 -> 7*7*128\n",
    "        self.latent_reshape = nn.Unflatten(dim=1, unflattened_size=(128, 7, 7))\n",
    "        \n",
    "        # ReLU\n",
    "        self.leaky_relu = nn.LeakyReLU(0.2)\n",
    "\n",
    "        # Upsampling Convolutional layers\n",
    "        self.upsample1 = nn.ConvTranspose2d(129, 128, kernel_size=4, stride=2, padding=1)    # 7x7x129 -> 14x14x128\n",
    "        self.upsample2 = nn.ConvTranspose2d(128, 128, kernel_size=4, stride=2, padding=1)    # 14x14x128 -> 28x28x128\n",
    "        \n",
    "        # Output layer\n",
    "        self.output_layer = nn.Conv2d(128, 1, kernel_size=3, stride=1, padding=1)   # 28x28x128 -> 28x28x1\n",
    "\n",
    "\n",
    "    def forward(self, latent_input, labels):\n",
    "        label_embed = self.label_embedding(labels)\n",
    "        label_embed = self.label_dense(label_embed)\n",
    "        label_embed = label_embed.view(-1, 1, 7, 7) # Reshape\n",
    "\n",
    "        latent = self.latent_to_image_size(latent_input)\n",
    "        latent = self.leaky_relu(latent)\n",
    "        latent = self.latent_reshape(latent)\n",
    "\n",
    "        x = torch.cat((latent, label_embed), dim=1)     # Concatenate latent and label embed\n",
    "\n",
    "        # Upsample to 16x16\n",
    "        x = self.upsample1(x)\n",
    "        x = self.leaky_relu(x)\n",
    "\n",
    "        # Upsample to 32x32\n",
    "        x = self.upsample2(x)\n",
    "        x = self.leaky_relu(x)\n",
    "\n",
    "        # Output layer\n",
    "        x = torch.tanh(self.output_layer(x))\n",
    "\n",
    "        return x\n",
    "    \n",
    "netG = Generator(ngpu=ngpu, latent_dim=nz, n_classes=n_classes).to(device=device)\n",
    "netG.apply(weights_init)"
   ]
  },
  {
   "cell_type": "code",
   "execution_count": 7,
   "metadata": {},
   "outputs": [
    {
     "data": {
      "text/plain": [
       "Discriminator(\n",
       "  (label_embedding): Embedding(10, 50)\n",
       "  (label_dense): Linear(in_features=50, out_features=784, bias=True)\n",
       "  (conv1): Conv2d(2, 128, kernel_size=(3, 3), stride=(2, 2), padding=(1, 1))\n",
       "  (conv2): Conv2d(128, 128, kernel_size=(3, 3), stride=(2, 2), padding=(1, 1))\n",
       "  (leaky_relu): LeakyReLU(negative_slope=0.2)\n",
       "  (flatten): Flatten(start_dim=1, end_dim=-1)\n",
       "  (dropout): Dropout(p=0.4, inplace=False)\n",
       "  (fc): Linear(in_features=6272, out_features=1, bias=True)\n",
       ")"
      ]
     },
     "execution_count": 7,
     "metadata": {},
     "output_type": "execute_result"
    }
   ],
   "source": [
    "# Discriminator\n",
    "# input = image, output = likelihood of image being real\n",
    "class Discriminator(nn.Module):\n",
    "    def __init__(self, ngpu, in_shape=(28, 28, 1), n_classes=10):\n",
    "        super(Discriminator, self).__init__()\n",
    "        self.ngpu = ngpu\n",
    "        self.in_shape = in_shape\n",
    "        self.n_classes = n_classes\n",
    "        \n",
    "        # Embedding for categorical input (label)\n",
    "        self.label_embedding = nn.Embedding(n_classes, 50)  # 10 classes, embedding size = 50\n",
    "\n",
    "        # Fully connected layer to scale up label embedding to match image dimensions\n",
    "        self.label_dense = nn.Linear(50, in_shape[0] * in_shape[1])  # 50 -> 768\n",
    "\n",
    "        # Convolutional layers\n",
    "        self.conv1 = nn.Conv2d(in_shape[2] + 1, 128, kernel_size=3, stride=2, padding=1)  # (C+1) -> 128\n",
    "        self.conv2 = nn.Conv2d(128, 128, kernel_size=3, stride=2, padding=1)  # 128 -> 128\n",
    "\n",
    "        # ReLU\n",
    "        self.leaky_relu = nn.LeakyReLU(0.2)\n",
    "\n",
    "        # Fully connected layers\n",
    "        self.flatten = nn.Flatten()\n",
    "        self.dropout = nn.Dropout(0.4)\n",
    "        self.fc = nn.Linear(7*7*128, 1)  # 6272 -> 1\n",
    "\n",
    "    def forward(self, image, labels):\n",
    "        label_embed = self.label_embedding(labels)\n",
    "        label_embed = self.label_dense(label_embed)\n",
    "        label_embed = label_embed.view(-1, 1, self.in_shape[0], self.in_shape[1]) # Shape: (batch_size, 1, 28, 28)\n",
    "        \n",
    "        # Concatenate label embedding with image\n",
    "        x = torch.cat((image, label_embed), dim=1)  # Shape: (batch_size, C+1, 32, 32)\n",
    "\n",
    "        # Pass through convolutional layers (downsampling)\n",
    "        x = self.conv1(x)           # 28x28x2 -> 14x14x128\n",
    "        x = self.leaky_relu(x)\n",
    "        x = self.conv2(x)           # 14x14x128 -> 7x7x128\n",
    "        x = self.leaky_relu(x)\n",
    "\n",
    "        # Flatten and pass through fully connected layers\n",
    "        x = self.flatten(x)         # 7x7x128 -> 6272\n",
    "        x = self.dropout(x)\n",
    "        x = torch.sigmoid(self.fc(x))  # 6272 -> 1\n",
    "\n",
    "        return x\n",
    "    \n",
    "# Create the Discriminator\n",
    "netD = Discriminator(ngpu=ngpu).to(device)\n",
    "netD.apply(weights_init)"
   ]
  },
  {
   "cell_type": "code",
   "execution_count": 8,
   "metadata": {},
   "outputs": [],
   "source": [
    "# Initialize the ``BCELoss`` function\n",
    "criterion = nn.BCELoss()\n",
    "\n",
    "# Establish convention for real and fake labels during training\n",
    "real_label = 1\n",
    "fake_label = 0\n",
    "\n",
    "# Setup Adam optimizers for both G and D\n",
    "optimizerD = optim.Adam(netD.parameters(), lr=lr, betas=(beta1, 0.999))\n",
    "optimizerG = optim.Adam(netG.parameters(), lr=lr, betas=(beta1, 0.999))"
   ]
  },
  {
   "cell_type": "code",
   "execution_count": 9,
   "metadata": {},
   "outputs": [
    {
     "name": "stdout",
     "output_type": "stream",
     "text": [
      "[0/10][0/469]\tLoss_D: 1.3913\tLoss_G: 0.7103\tD(x): 0.4833\tD(G(z)): 0.4852 / 0.4915\n",
      "[0/10][50/469]\tLoss_D: 0.0841\tLoss_G: 3.5484\tD(x): 0.9585\tD(G(z)): 0.0327 / 0.0306\n",
      "[0/10][100/469]\tLoss_D: 0.0123\tLoss_G: 5.3533\tD(x): 0.9965\tD(G(z)): 0.0087 / 0.0059\n",
      "[0/10][150/469]\tLoss_D: 0.0044\tLoss_G: 6.4696\tD(x): 0.9980\tD(G(z)): 0.0023 / 0.0021\n",
      "[0/10][200/469]\tLoss_D: 0.0041\tLoss_G: 7.0062\tD(x): 0.9974\tD(G(z)): 0.0013 / 0.0013\n",
      "[0/10][250/469]\tLoss_D: 0.0034\tLoss_G: 7.3410\tD(x): 0.9974\tD(G(z)): 0.0007 / 0.0009\n",
      "[0/10][300/469]\tLoss_D: 0.0006\tLoss_G: 8.3246\tD(x): 0.9997\tD(G(z)): 0.0004 / 0.0004\n",
      "[0/10][350/469]\tLoss_D: 0.0006\tLoss_G: 8.5184\tD(x): 0.9999\tD(G(z)): 0.0004 / 0.0004\n",
      "[0/10][400/469]\tLoss_D: 0.6967\tLoss_G: 3.4659\tD(x): 0.9997\tD(G(z)): 0.3961 / 0.0712\n",
      "[0/10][450/469]\tLoss_D: 1.2671\tLoss_G: 0.8336\tD(x): 0.5407\tD(G(z)): 0.4549 / 0.4501\n",
      "[1/10][0/469]\tLoss_D: 1.4531\tLoss_G: 0.8346\tD(x): 0.5018\tD(G(z)): 0.4971 / 0.4561\n",
      "[1/10][50/469]\tLoss_D: 1.1861\tLoss_G: 0.9177\tD(x): 0.5578\tD(G(z)): 0.4376 / 0.4070\n",
      "[1/10][100/469]\tLoss_D: 1.2717\tLoss_G: 0.7643\tD(x): 0.5038\tD(G(z)): 0.4274 / 0.4744\n",
      "[1/10][150/469]\tLoss_D: 1.1578\tLoss_G: 1.0248\tD(x): 0.5885\tD(G(z)): 0.4397 / 0.3722\n",
      "[1/10][200/469]\tLoss_D: 1.0344\tLoss_G: 1.0602\tD(x): 0.6218\tD(G(z)): 0.3985 / 0.3649\n",
      "[1/10][250/469]\tLoss_D: 1.2110\tLoss_G: 0.9706\tD(x): 0.5796\tD(G(z)): 0.4416 / 0.3959\n",
      "[1/10][300/469]\tLoss_D: 1.1545\tLoss_G: 0.9499\tD(x): 0.5973\tD(G(z)): 0.4386 / 0.4105\n",
      "[1/10][350/469]\tLoss_D: 1.2019\tLoss_G: 0.8634\tD(x): 0.5854\tD(G(z)): 0.4325 / 0.4423\n",
      "[1/10][400/469]\tLoss_D: 1.2201\tLoss_G: 0.9117\tD(x): 0.5621\tD(G(z)): 0.4258 / 0.4254\n",
      "[1/10][450/469]\tLoss_D: 1.2848\tLoss_G: 0.9244\tD(x): 0.5700\tD(G(z)): 0.4655 / 0.4171\n",
      "[2/10][0/469]\tLoss_D: 1.2803\tLoss_G: 0.7887\tD(x): 0.5268\tD(G(z)): 0.4320 / 0.4702\n",
      "[2/10][50/469]\tLoss_D: 1.2964\tLoss_G: 0.7964\tD(x): 0.5208\tD(G(z)): 0.4401 / 0.4633\n",
      "[2/10][100/469]\tLoss_D: 1.3360\tLoss_G: 0.7776\tD(x): 0.5616\tD(G(z)): 0.5052 / 0.4699\n",
      "[2/10][150/469]\tLoss_D: 1.2318\tLoss_G: 0.8793\tD(x): 0.5344\tD(G(z)): 0.4241 / 0.4296\n",
      "[2/10][200/469]\tLoss_D: 1.3566\tLoss_G: 0.7336\tD(x): 0.5734\tD(G(z)): 0.5160 / 0.4946\n",
      "[2/10][250/469]\tLoss_D: 1.3432\tLoss_G: 0.8190\tD(x): 0.5150\tD(G(z)): 0.4606 / 0.4530\n",
      "[2/10][300/469]\tLoss_D: 1.3458\tLoss_G: 0.7629\tD(x): 0.5413\tD(G(z)): 0.4947 / 0.4779\n",
      "[2/10][350/469]\tLoss_D: 1.2366\tLoss_G: 0.8532\tD(x): 0.5380\tD(G(z)): 0.4416 / 0.4356\n",
      "[2/10][400/469]\tLoss_D: 1.1324\tLoss_G: 0.9265\tD(x): 0.5991\tD(G(z)): 0.4447 / 0.4098\n",
      "[2/10][450/469]\tLoss_D: 1.2308\tLoss_G: 0.8223\tD(x): 0.5414\tD(G(z)): 0.4467 / 0.4481\n",
      "[3/10][0/469]\tLoss_D: 1.3364\tLoss_G: 0.8009\tD(x): 0.5288\tD(G(z)): 0.4773 / 0.4598\n",
      "[3/10][50/469]\tLoss_D: 1.1719\tLoss_G: 1.0723\tD(x): 0.4812\tD(G(z)): 0.3345 / 0.3543\n",
      "[3/10][100/469]\tLoss_D: 1.2807\tLoss_G: 0.7538\tD(x): 0.5348\tD(G(z)): 0.4628 / 0.4794\n",
      "[3/10][150/469]\tLoss_D: 1.2869\tLoss_G: 0.8071\tD(x): 0.5409\tD(G(z)): 0.4742 / 0.4559\n",
      "[3/10][200/469]\tLoss_D: 1.3156\tLoss_G: 0.7181\tD(x): 0.5689\tD(G(z)): 0.5134 / 0.4956\n",
      "[3/10][250/469]\tLoss_D: 1.2269\tLoss_G: 0.8426\tD(x): 0.5544\tD(G(z)): 0.4538 / 0.4390\n",
      "[3/10][300/469]\tLoss_D: 0.9731\tLoss_G: 1.0998\tD(x): 0.6656\tD(G(z)): 0.4118 / 0.3512\n",
      "[3/10][350/469]\tLoss_D: 1.2954\tLoss_G: 0.7725\tD(x): 0.5353\tD(G(z)): 0.4723 / 0.4701\n",
      "[3/10][400/469]\tLoss_D: 1.3588\tLoss_G: 0.8428\tD(x): 0.4956\tD(G(z)): 0.4552 / 0.4437\n",
      "[3/10][450/469]\tLoss_D: 1.2555\tLoss_G: 0.8220\tD(x): 0.5522\tD(G(z)): 0.4635 / 0.4499\n",
      "[4/10][0/469]\tLoss_D: 1.2550\tLoss_G: 0.8749\tD(x): 0.5354\tD(G(z)): 0.4491 / 0.4284\n",
      "[4/10][50/469]\tLoss_D: 1.2241\tLoss_G: 0.8585\tD(x): 0.5450\tD(G(z)): 0.4394 / 0.4366\n",
      "[4/10][100/469]\tLoss_D: 1.4703\tLoss_G: 0.7736\tD(x): 0.6117\tD(G(z)): 0.5812 / 0.4842\n",
      "[4/10][150/469]\tLoss_D: 1.2450\tLoss_G: 0.8769\tD(x): 0.5337\tD(G(z)): 0.4363 / 0.4282\n",
      "[4/10][200/469]\tLoss_D: 1.2356\tLoss_G: 0.8205\tD(x): 0.5744\tD(G(z)): 0.4686 / 0.4508\n",
      "[4/10][250/469]\tLoss_D: 0.9116\tLoss_G: 1.1100\tD(x): 0.6991\tD(G(z)): 0.3905 / 0.3617\n",
      "[4/10][300/469]\tLoss_D: 1.2513\tLoss_G: 0.8758\tD(x): 0.5822\tD(G(z)): 0.4712 / 0.4414\n",
      "[4/10][350/469]\tLoss_D: 1.0334\tLoss_G: 1.0151\tD(x): 0.6352\tD(G(z)): 0.4132 / 0.3830\n",
      "[4/10][400/469]\tLoss_D: 1.4647\tLoss_G: 0.8018\tD(x): 0.5169\tD(G(z)): 0.5085 / 0.4646\n",
      "[4/10][450/469]\tLoss_D: 1.3752\tLoss_G: 0.9262\tD(x): 0.4772\tD(G(z)): 0.4245 / 0.4137\n",
      "[5/10][0/469]\tLoss_D: 1.2489\tLoss_G: 0.9770\tD(x): 0.5309\tD(G(z)): 0.4187 / 0.3981\n",
      "[5/10][50/469]\tLoss_D: 1.3947\tLoss_G: 0.8090\tD(x): 0.5439\tD(G(z)): 0.4989 / 0.4635\n",
      "[5/10][100/469]\tLoss_D: 1.2973\tLoss_G: 0.8777\tD(x): 0.5850\tD(G(z)): 0.4912 / 0.4332\n",
      "[5/10][150/469]\tLoss_D: 1.1623\tLoss_G: 1.0909\tD(x): 0.5458\tD(G(z)): 0.3905 / 0.3565\n",
      "[5/10][200/469]\tLoss_D: 1.3443\tLoss_G: 0.8262\tD(x): 0.5671\tD(G(z)): 0.4971 / 0.4555\n",
      "[5/10][250/469]\tLoss_D: 1.1351\tLoss_G: 0.9067\tD(x): 0.6017\tD(G(z)): 0.4386 / 0.4189\n",
      "[5/10][300/469]\tLoss_D: 1.2511\tLoss_G: 0.9092\tD(x): 0.5670\tD(G(z)): 0.4531 / 0.4256\n",
      "[5/10][350/469]\tLoss_D: 1.1800\tLoss_G: 0.9680\tD(x): 0.5762\tD(G(z)): 0.4274 / 0.3999\n",
      "[5/10][400/469]\tLoss_D: 1.2257\tLoss_G: 0.8286\tD(x): 0.5681\tD(G(z)): 0.4524 / 0.4522\n",
      "[5/10][450/469]\tLoss_D: 1.1666\tLoss_G: 0.9398\tD(x): 0.5865\tD(G(z)): 0.4240 / 0.4117\n",
      "[6/10][0/469]\tLoss_D: 1.0446\tLoss_G: 0.9588\tD(x): 0.6427\tD(G(z)): 0.4283 / 0.4024\n",
      "[6/10][50/469]\tLoss_D: 1.3907\tLoss_G: 0.9753\tD(x): 0.4909\tD(G(z)): 0.4401 / 0.4035\n",
      "[6/10][100/469]\tLoss_D: 1.1958\tLoss_G: 1.0099\tD(x): 0.5543\tD(G(z)): 0.4057 / 0.3874\n",
      "[6/10][150/469]\tLoss_D: 1.1886\tLoss_G: 0.9010\tD(x): 0.5938\tD(G(z)): 0.4527 / 0.4192\n",
      "[6/10][200/469]\tLoss_D: 1.0332\tLoss_G: 1.0475\tD(x): 0.6411\tD(G(z)): 0.4178 / 0.3751\n",
      "[6/10][250/469]\tLoss_D: 1.3531\tLoss_G: 0.9895\tD(x): 0.5255\tD(G(z)): 0.4403 / 0.4045\n",
      "[6/10][300/469]\tLoss_D: 1.1209\tLoss_G: 1.1190\tD(x): 0.6013\tD(G(z)): 0.4128 / 0.3644\n",
      "[6/10][350/469]\tLoss_D: 1.2693\tLoss_G: 0.8303\tD(x): 0.5511\tD(G(z)): 0.4410 / 0.4537\n",
      "[6/10][400/469]\tLoss_D: 1.1121\tLoss_G: 0.9574\tD(x): 0.6079\tD(G(z)): 0.4204 / 0.4164\n",
      "[6/10][450/469]\tLoss_D: 1.1954\tLoss_G: 1.1057\tD(x): 0.5087\tD(G(z)): 0.3624 / 0.3619\n",
      "[7/10][0/469]\tLoss_D: 1.2537\tLoss_G: 1.0151\tD(x): 0.5643\tD(G(z)): 0.4317 / 0.3978\n",
      "[7/10][50/469]\tLoss_D: 1.0763\tLoss_G: 1.0628\tD(x): 0.5888\tD(G(z)): 0.3741 / 0.3799\n",
      "[7/10][100/469]\tLoss_D: 1.2107\tLoss_G: 0.8220\tD(x): 0.5773\tD(G(z)): 0.4476 / 0.4603\n",
      "[7/10][150/469]\tLoss_D: 1.2352\tLoss_G: 0.9968\tD(x): 0.5284\tD(G(z)): 0.3913 / 0.3971\n",
      "[7/10][200/469]\tLoss_D: 1.2776\tLoss_G: 0.9225\tD(x): 0.5451\tD(G(z)): 0.4354 / 0.4342\n",
      "[7/10][250/469]\tLoss_D: 1.1552\tLoss_G: 1.0665\tD(x): 0.6282\tD(G(z)): 0.4397 / 0.3794\n",
      "[7/10][300/469]\tLoss_D: 1.0906\tLoss_G: 1.0251\tD(x): 0.5899\tD(G(z)): 0.3856 / 0.3992\n",
      "[7/10][350/469]\tLoss_D: 1.0668\tLoss_G: 1.0752\tD(x): 0.6246\tD(G(z)): 0.4016 / 0.3700\n",
      "[7/10][400/469]\tLoss_D: 1.1008\tLoss_G: 1.1033\tD(x): 0.6170\tD(G(z)): 0.4148 / 0.3688\n",
      "[7/10][450/469]\tLoss_D: 1.2711\tLoss_G: 1.0303\tD(x): 0.5603\tD(G(z)): 0.4343 / 0.3872\n",
      "[8/10][0/469]\tLoss_D: 1.2744\tLoss_G: 0.9707\tD(x): 0.5359\tD(G(z)): 0.4172 / 0.4095\n",
      "[8/10][50/469]\tLoss_D: 1.1665\tLoss_G: 1.0248\tD(x): 0.6005\tD(G(z)): 0.4350 / 0.3908\n",
      "[8/10][100/469]\tLoss_D: 1.2335\tLoss_G: 0.9370\tD(x): 0.5410\tD(G(z)): 0.4038 / 0.4242\n",
      "[8/10][150/469]\tLoss_D: 1.2998\tLoss_G: 1.0045\tD(x): 0.5222\tD(G(z)): 0.4145 / 0.4117\n",
      "[8/10][200/469]\tLoss_D: 1.0890\tLoss_G: 1.1164\tD(x): 0.6376\tD(G(z)): 0.4191 / 0.3655\n",
      "[8/10][250/469]\tLoss_D: 1.1401\tLoss_G: 0.9608\tD(x): 0.6234\tD(G(z)): 0.4384 / 0.4117\n",
      "[8/10][300/469]\tLoss_D: 1.2298\tLoss_G: 1.1279\tD(x): 0.5841\tD(G(z)): 0.4396 / 0.3656\n",
      "[8/10][350/469]\tLoss_D: 1.1745\tLoss_G: 0.9944\tD(x): 0.5746\tD(G(z)): 0.4108 / 0.3969\n",
      "[8/10][400/469]\tLoss_D: 1.1510\tLoss_G: 0.9464\tD(x): 0.5725\tD(G(z)): 0.4017 / 0.4153\n",
      "[8/10][450/469]\tLoss_D: 1.1994\tLoss_G: 0.9229\tD(x): 0.6008\tD(G(z)): 0.4498 / 0.4240\n",
      "[9/10][0/469]\tLoss_D: 1.2191\tLoss_G: 0.9112\tD(x): 0.5622\tD(G(z)): 0.4233 / 0.4263\n",
      "[9/10][50/469]\tLoss_D: 1.2355\tLoss_G: 1.0091\tD(x): 0.6075\tD(G(z)): 0.4608 / 0.3951\n",
      "[9/10][100/469]\tLoss_D: 1.3222\tLoss_G: 1.0628\tD(x): 0.5240\tD(G(z)): 0.4290 / 0.3772\n",
      "[9/10][150/469]\tLoss_D: 1.1873\tLoss_G: 0.9162\tD(x): 0.5724\tD(G(z)): 0.4147 / 0.4288\n",
      "[9/10][200/469]\tLoss_D: 1.2056\tLoss_G: 0.8151\tD(x): 0.5596\tD(G(z)): 0.4093 / 0.4616\n",
      "[9/10][250/469]\tLoss_D: 1.2593\tLoss_G: 0.8422\tD(x): 0.5457\tD(G(z)): 0.4288 / 0.4532\n",
      "[9/10][300/469]\tLoss_D: 1.2463\tLoss_G: 0.8870\tD(x): 0.5816\tD(G(z)): 0.4433 / 0.4399\n",
      "[9/10][350/469]\tLoss_D: 1.2269\tLoss_G: 0.9615\tD(x): 0.5349\tD(G(z)): 0.4111 / 0.4094\n",
      "[9/10][400/469]\tLoss_D: 1.1880\tLoss_G: 0.9239\tD(x): 0.5565\tD(G(z)): 0.3970 / 0.4253\n",
      "[9/10][450/469]\tLoss_D: 1.1627\tLoss_G: 1.0240\tD(x): 0.6369\tD(G(z)): 0.4609 / 0.3884\n"
     ]
    }
   ],
   "source": [
    "# Training Loop\n",
    "\n",
    "for epoch in range(num_epochs):\n",
    "    for i, data in enumerate(dataloader, 0):\n",
    "        images, labels = data\n",
    "        images = images.to(device)\n",
    "        labels = labels.to(device)\n",
    "\n",
    "        # ---------------------\n",
    "        #  Train Discriminator\n",
    "        # ---------------------\n",
    "\n",
    "        # Train on real batch of images\n",
    "        netD.zero_grad()\n",
    "        # generate class labels and assign to y (don't confuse this with the above labels that correspond to cifar labels)\n",
    "        y = torch.full((images.size(0),), real_label, dtype=torch.float, device=device)     # Generates all 1's\n",
    "\n",
    "        # Forward pass real batch through Discriminator\n",
    "        output = netD(images, labels).view(-1)\n",
    "        errD_real = criterion(output, y)\n",
    "        # Calculate gradients for D in backward pass\n",
    "        errD_real.backward()\n",
    "        D_x = output.mean().item()\n",
    "\n",
    "        # Train on fake batch of images from generator\n",
    "        noise = torch.randn(images.size(0), nz, device=device)                  # Generate batch of latent vectors and labels\n",
    "        labels = torch.randint(0, n_classes, (images.size(0), ), device=device)\n",
    "\n",
    "        fake = netG(noise, labels)\n",
    "        y.fill_(fake_label)\n",
    "        # Classify all fake batch with Discriminator\n",
    "        output = netD(fake.detach(), labels).view(-1)\n",
    "        # Calculate D's loss on the all-fake batch\n",
    "        errD_fake = criterion(output, y)\n",
    "        # Calculate the gradients for this batch, accumulated (summed) with previous gradients\n",
    "        errD_fake.backward()\n",
    "        D_G_z1 = output.mean().item()\n",
    "        # Compute error of D as sum over the fake and the real batches\n",
    "        errD = errD_real + errD_fake\n",
    "        # Update D\n",
    "        optimizerD.step()\n",
    "\n",
    "        # ---------------------\n",
    "        #  Train Generator\n",
    "        # ---------------------\n",
    "        netG.zero_grad()\n",
    "        y.fill_(real_label)\n",
    "        output = netD(fake, labels).view(-1)\n",
    "        # Calculate G's loss based on this output\n",
    "        errG = criterion(output, y)\n",
    "        # Calculate gradients for G\n",
    "        errG.backward()\n",
    "        D_G_z2 = output.mean().item()\n",
    "        # Update G\n",
    "        optimizerG.step()\n",
    "\n",
    "        # Output training stats\n",
    "        if i % 50 == 0:\n",
    "            print('[%d/%d][%d/%d]\\tLoss_D: %.4f\\tLoss_G: %.4f\\tD(x): %.4f\\tD(G(z)): %.4f / %.4f'\n",
    "                % (epoch, num_epochs, i, len(dataloader),\n",
    "                    errD.item(), errG.item(), D_x, D_G_z1, D_G_z2))"
   ]
  },
  {
   "cell_type": "code",
   "execution_count": 10,
   "metadata": {},
   "outputs": [],
   "source": [
    "torch.save(netG.state_dict(), \"./mnist-conditional-gan-model.pt\")"
   ]
  },
  {
   "cell_type": "code",
   "execution_count": 53,
   "metadata": {},
   "outputs": [
    {
     "name": "stdout",
     "output_type": "stream",
     "text": [
      "tensor(5, device='cuda:0')\n"
     ]
    },
    {
     "data": {
      "image/png": "[encoded data removed]",
      "text/plain": [
       "<Figure size 640x480 with 1 Axes>"
      ]
     },
     "metadata": {},
     "output_type": "display_data"
    }
   ],
   "source": [
    "# Set the generator to evaluation mode\n",
    "netG.eval()\n",
    "\n",
    "# Generate a sample noise vector\n",
    "sample_noise = torch.randn(1, nz, device=device)\n",
    "label = torch.tensor(5, device=device)\n",
    "print(label)\n",
    "\n",
    "# Generate an image from the noise vector\n",
    "X = netG(sample_noise, label).detach().cpu()\n",
    "\n",
    "# Plot the generated image\n",
    "plt.imshow(X.view(image_size, image_size), cmap='gray')\n",
    "plt.show()"
   ]
  }
 ],
 "metadata": {
  "kernelspec": {
   "display_name": ".venv",
   "language": "python",
   "name": "python3"
  },
  "language_info": {
   "codemirror_mode": {
    "name": "ipython",
    "version": 3
   },
   "file_extension": ".py",
   "mimetype": "text/x-python",
   "name": "python",
   "nbconvert_exporter": "python",
   "pygments_lexer": "ipython3",
   "version": "3.12.1"
  }
 },
 "nbformat": 4,
 "nbformat_minor": 2
}
